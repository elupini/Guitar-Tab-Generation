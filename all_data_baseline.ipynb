{
 "cells": [
  {
   "cell_type": "code",
   "execution_count": 1,
   "id": "d05aabaf-3227-4e23-a189-49add3b27909",
   "metadata": {},
   "outputs": [],
   "source": [
    "import jams\n",
    "import numpy as np\n",
    "from matplotlib import lines as mlines, pyplot as plt\n",
    "import tempfile\n",
    "import librosa\n",
    "import sox\n",
    "import os\n",
    "import pandas as pd\n",
    "import lib.helper_functions as hf\n",
    "from scipy.spatial.distance import cdist"
   ]
  },
  {
   "cell_type": "markdown",
   "id": "e50930b0-405a-4c79-ac14-b87bde90851e",
   "metadata": {},
   "source": [
    "#### Baseline Model on All Data"
   ]
  },
  {
   "cell_type": "code",
   "execution_count": 2,
   "id": "f00e9a6f-fca8-4967-8993-de8328c8f454",
   "metadata": {},
   "outputs": [],
   "source": [
    "data_unfiltered = os.listdir('data')\n",
    "data = []\n",
    "for wav in data_unfiltered:\n",
    "    if('solo' in wav):\n",
    "        data.append(wav)"
   ]
  },
  {
   "cell_type": "code",
   "execution_count": 3,
   "id": "fb1ac0f5-c0c9-425e-ad7f-776d56deb241",
   "metadata": {},
   "outputs": [
    {
     "name": "stderr",
     "output_type": "stream",
     "text": [
      "/Users/elupini/Documents/UVic/CSC_475/Group_Project_v2/lib/helper_functions.py:59: SettingWithCopyWarning: \n",
      "A value is trying to be set on a copy of a slice from a DataFrame.\n",
      "Try using .loc[row_indexer,col_indexer] = value instead\n",
      "\n",
      "See the caveats in the documentation: https://pandas.pydata.org/pandas-docs/stable/user_guide/indexing.html#returning-a-view-versus-a-copy\n",
      "  df['prediction'] = df.apply(lambda x: baseline_helper(x.midi_note), axis=1)\n"
     ]
    }
   ],
   "source": [
    "scores = []\n",
    "for jam in data:\n",
    "    wav = jams.load('data/'+ jam)\n",
    "    df = hf.generate_data(wav)\n",
    "    df_train = df[['start_time','duration','midi_note']]\n",
    "    df_target = df['string']\n",
    "    df_pred = hf.baseline_prediction(df_train)\n",
    "    scores.append(hf.evaluate_model(df_pred['string'], df_target))"
   ]
  },
  {
   "cell_type": "code",
   "execution_count": 4,
   "id": "be0f5db5-0dd4-4e9e-bd53-6bbb82ef40ba",
   "metadata": {},
   "outputs": [
    {
     "name": "stdout",
     "output_type": "stream",
     "text": [
      "Average Score:  0.2991130206081085\n"
     ]
    }
   ],
   "source": [
    "print('Average Score: ',np.asarray(scores).mean())"
   ]
  },
  {
   "cell_type": "markdown",
   "id": "8a37d821-31c8-4857-8400-5300f44ba0ff",
   "metadata": {},
   "source": [
    "#### Naive Shortest Distance Model on All Data"
   ]
  },
  {
   "cell_type": "code",
   "execution_count": 5,
   "id": "07a8757e-0951-4436-8ff8-87f66f9fbfb4",
   "metadata": {},
   "outputs": [
    {
     "name": "stderr",
     "output_type": "stream",
     "text": [
      "/Users/elupini/Documents/UVic/CSC_475/Group_Project_v2/lib/helper_functions.py:166: SettingWithCopyWarning: \n",
      "A value is trying to be set on a copy of a slice from a DataFrame.\n",
      "Try using .loc[row_indexer,col_indexer] = value instead\n",
      "\n",
      "See the caveats in the documentation: https://pandas.pydata.org/pandas-docs/stable/user_guide/indexing.html#returning-a-view-versus-a-copy\n",
      "  df['string_pred'] = strings['string_pred']\n"
     ]
    }
   ],
   "source": [
    "exp_2_scores = []\n",
    "for jam in data:\n",
    "    wav = jams.load('data/'+ jam)\n",
    "    df = hf.generate_data(wav)\n",
    "    df_train = df[['start_time','duration','midi_note']]\n",
    "    df_target = df[['string','fret_position']]\n",
    "    p = hf.get_shortest_distance(df_train)\n",
    "    exp_2_scores.append(hf.evaluate_model(p['string_pred'], df_target['string']))"
   ]
  },
  {
   "cell_type": "code",
   "execution_count": 6,
   "id": "30984673-8ca5-4cbb-81f4-9ed429ffc9bb",
   "metadata": {},
   "outputs": [
    {
     "name": "stdout",
     "output_type": "stream",
     "text": [
      "Average Score:  0.3042465156011596\n"
     ]
    }
   ],
   "source": [
    "print('Average Score: ',np.asarray(exp_2_scores).mean())"
   ]
  },
  {
   "cell_type": "markdown",
   "id": "75101432-1601-4522-aabb-6ef92111e1b8",
   "metadata": {},
   "source": [
    "#### Plot Scores For Each Track"
   ]
  },
  {
   "cell_type": "code",
   "execution_count": null,
   "id": "90c11554-6440-4f02-bf3b-f322c5929377",
   "metadata": {},
   "outputs": [],
   "source": [
    "plt.figure(figsize=(15, 10), dpi=80)\n",
    "plt.plot(exp_2_scores)"
   ]
  }
 ],
 "metadata": {
  "kernelspec": {
   "display_name": "FMP",
   "language": "python",
   "name": "fmp"
  },
  "language_info": {
   "codemirror_mode": {
    "name": "ipython",
    "version": 3
   },
   "file_extension": ".py",
   "mimetype": "text/x-python",
   "name": "python",
   "nbconvert_exporter": "python",
   "pygments_lexer": "ipython3",
   "version": "3.7.11"
  }
 },
 "nbformat": 4,
 "nbformat_minor": 5
}
